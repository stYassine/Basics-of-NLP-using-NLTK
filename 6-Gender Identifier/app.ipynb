{
 "cells": [
  {
   "cell_type": "markdown",
   "metadata": {},
   "source": [
    "# Constructing A Gender Identifier"
   ]
  },
  {
   "cell_type": "markdown",
   "metadata": {},
   "source": [
    "#### - Heuristic to construct a feature vector\n",
    "#### - last N letters of given name\n",
    "#### - Example:\n",
    "#### - la == Female ( Amelia or Genelia )\n",
    "#### - rk == Male ( Mark or Clark )\n",
    "#### - Find ( N ) using testing!"
   ]
  },
  {
   "cell_type": "code",
   "execution_count": 12,
   "metadata": {},
   "outputs": [
    {
     "name": "stdout",
     "output_type": "stream",
     "text": [
      "[nltk_data] Downloading package names to\n",
      "[nltk_data]     C:\\Users\\B21Yassine\\AppData\\Roaming\\nltk_data...\n",
      "[nltk_data]   Package names is already up-to-date!\n"
     ]
    },
    {
     "data": {
      "text/plain": [
       "True"
      ]
     },
     "execution_count": 12,
     "metadata": {},
     "output_type": "execute_result"
    }
   ],
   "source": [
    "# download names\n",
    "import nltk\n",
    "nltk.download('names')"
   ]
  },
  {
   "cell_type": "code",
   "execution_count": 13,
   "metadata": {},
   "outputs": [],
   "source": [
    "# import libs\n",
    "import random\n",
    "\n",
    "from nltk import NaiveBayesClassifier\n",
    "from nltk.classify import accuracy as nltk_accuracy\n",
    "from nltk.corpus import names"
   ]
  },
  {
   "cell_type": "code",
   "execution_count": 14,
   "metadata": {},
   "outputs": [],
   "source": [
    "# Extract the Last N letters from the input word\n",
    "# and that will act as our feature\n",
    "def extract_features(input_word, N):\n",
    "    last_n_letters =input_word[-N:]\n",
    "    return {'feature': last_n_letters.lower()}"
   ]
  },
  {
   "cell_type": "code",
   "execution_count": 15,
   "metadata": {},
   "outputs": [],
   "source": [
    "# create training data using labeled names variables in NLTK\n",
    "male_list =[(name, 'male') for name in names.words('male.txt') ]\n",
    "female_list =[(name, 'female') for name in names.words('female.txt') ]\n",
    "data =( male_list+ female_list )"
   ]
  },
  {
   "cell_type": "code",
   "execution_count": 18,
   "metadata": {},
   "outputs": [],
   "source": [
    "# seed the random number generator\n",
    "random.seed(5)"
   ]
  },
  {
   "cell_type": "code",
   "execution_count": 19,
   "metadata": {},
   "outputs": [],
   "source": [
    "# shuffle the data\n",
    "random.shuffle(data)"
   ]
  },
  {
   "cell_type": "code",
   "execution_count": 20,
   "metadata": {},
   "outputs": [],
   "source": [
    "# create test data\n",
    "test_input =['Alexander', 'Danielle', 'David', 'Cheryl']"
   ]
  },
  {
   "cell_type": "code",
   "execution_count": 22,
   "metadata": {},
   "outputs": [],
   "source": [
    "# define the number of samples used for train & test\n",
    "num_train =int(0.8 * len(data))"
   ]
  },
  {
   "cell_type": "code",
   "execution_count": 27,
   "metadata": {},
   "outputs": [
    {
     "name": "stdout",
     "output_type": "stream",
     "text": [
      "\n",
      "Number of end Letters 1\n",
      "\n",
      "Number of end Letters 2\n",
      "\n",
      "Number of end Letters 3\n",
      "\n",
      "Number of end Letters 4\n",
      "\n",
      "Number of end Letters 5\n"
     ]
    }
   ],
   "source": [
    "# Iterate through different lengths to compare accuracy\n",
    "for i in range(1, 6):\n",
    "    print('\\nNumber of end Letters', i)\n",
    "    features =[ (extract_features(n, i), gender) for (n, gender) in data ]"
   ]
  },
  {
   "cell_type": "code",
   "execution_count": 28,
   "metadata": {},
   "outputs": [],
   "source": [
    "train_data, test_data =features[:num_train], features[num_train:]"
   ]
  },
  {
   "cell_type": "code",
   "execution_count": 30,
   "metadata": {},
   "outputs": [],
   "source": [
    "classifier =NaiveBayesClassifier.train(train_data)"
   ]
  },
  {
   "cell_type": "code",
   "execution_count": 31,
   "metadata": {},
   "outputs": [
    {
     "name": "stdout",
     "output_type": "stream",
     "text": [
      "Accuracy :  64.63\n"
     ]
    }
   ],
   "source": [
    "# compute the accuracy of the classifier\n",
    "accuracy =round(100 * nltk_accuracy(classifier, test_data), 2)\n",
    "print('Accuracy : ', accuracy)"
   ]
  },
  {
   "cell_type": "code",
   "execution_count": null,
   "metadata": {},
   "outputs": [],
   "source": []
  }
 ],
 "metadata": {
  "kernelspec": {
   "display_name": "Python 3",
   "language": "python",
   "name": "python3"
  },
  "language_info": {
   "codemirror_mode": {
    "name": "ipython",
    "version": 3
   },
   "file_extension": ".py",
   "mimetype": "text/x-python",
   "name": "python",
   "nbconvert_exporter": "python",
   "pygments_lexer": "ipython3",
   "version": "3.7.0"
  }
 },
 "nbformat": 4,
 "nbformat_minor": 2
}
