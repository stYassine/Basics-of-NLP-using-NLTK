{
 "cells": [
  {
   "cell_type": "markdown",
   "metadata": {},
   "source": [
    "# Sentiment Analyzer"
   ]
  },
  {
   "cell_type": "markdown",
   "metadata": {},
   "source": [
    "### Sentiment Analyzer is the process of determining the sentiment of a given piece of text.\n",
    "#### Movie review is positive or negative\n",
    "#### How people feel about particular product, band, topic...\n",
    "\n",
    "####  Used to analyze : \n",
    "\t- marketing campaigns\n",
    "\t- Opinion Polls\n",
    "\t- Social media presence\n",
    "\t- Product reviews on e-commerce sites and so on"
   ]
  },
  {
   "cell_type": "markdown",
   "metadata": {},
   "source": [
    "# Building Sentiment Analyzer"
   ]
  },
  {
   "cell_type": "markdown",
   "metadata": {},
   "source": [
    "#### - Determine the sentiment of a movie review:\n",
    "#### - Classifer ( Naive Bayes, ... )\n",
    "#### - Unique words.\n",
    "#### - Data as a dictionary.\n",
    "#### - Divide data into training and testing datasets.\n",
    "#### - Train the classifier.\n",
    "#### - Top infotmative words === what words are beign used to denote various reactions."
   ]
  },
  {
   "cell_type": "markdown",
   "metadata": {},
   "source": [
    "# What we're building"
   ]
  },
  {
   "cell_type": "markdown",
   "metadata": {},
   "source": [
    "#### - Classify the reviews into positive or negative.\n",
    "#### - Informative words to indicate positive and negative reviews."
   ]
  },
  {
   "cell_type": "code",
   "execution_count": 4,
   "metadata": {},
   "outputs": [],
   "source": [
    "# import libs\n",
    "from nltk.corpus import movie_reviews\n",
    "from nltk.classify import NaiveBayesClassifier\n",
    "from nltk.classify.util import accuracy as nltk_accuracy"
   ]
  },
  {
   "cell_type": "code",
   "execution_count": 5,
   "metadata": {},
   "outputs": [
    {
     "name": "stdout",
     "output_type": "stream",
     "text": [
      "[nltk_data] Downloading package movie_reviews to\n",
      "[nltk_data]     C:\\Users\\B21Yassine\\AppData\\Roaming\\nltk_data...\n",
      "[nltk_data]   Package movie_reviews is already up-to-date!\n"
     ]
    },
    {
     "data": {
      "text/plain": [
       "True"
      ]
     },
     "execution_count": 5,
     "metadata": {},
     "output_type": "execute_result"
    }
   ],
   "source": [
    "# Download the corpus\n",
    "import nltk\n",
    "nltk.download('movie_reviews')"
   ]
  },
  {
   "cell_type": "code",
   "execution_count": 6,
   "metadata": {},
   "outputs": [],
   "source": [
    "# extract features from the input list of words\n",
    "def extract_features(words):\n",
    "    return dict([word, True] for word in words )"
   ]
  },
  {
   "cell_type": "code",
   "execution_count": 7,
   "metadata": {},
   "outputs": [],
   "source": [
    "# load reviews from the corpus\n",
    "fileids_pos =movie_reviews.fileids('pos')\n",
    "fileids_neg =movie_reviews.fileids('neg')"
   ]
  },
  {
   "cell_type": "code",
   "execution_count": 8,
   "metadata": {},
   "outputs": [],
   "source": [
    "# Extract features from the reviews\n",
    "features_pos =[(extract_features(movie_reviews.words(fileids=[f])), 'Positive') for f in fileids_pos ]\n",
    "features_neg =[ (extract_features(movie_reviews.words(fileids=[f])), 'Negative' ) for f in fileids_neg ]"
   ]
  },
  {
   "cell_type": "code",
   "execution_count": 9,
   "metadata": {},
   "outputs": [],
   "source": [
    "# Define the train & test split 80% , 20%\n",
    "threshold =0.8\n",
    "num_pos =int(threshold * len(features_pos))\n",
    "num_neg =int(threshold * len(features_neg)) "
   ]
  },
  {
   "cell_type": "code",
   "execution_count": 10,
   "metadata": {},
   "outputs": [],
   "source": [
    "# create training & testing datasets\n",
    "features_train =features_pos[:num_pos] + features_neg[:num_neg]\n",
    "features_test =features_pos[num_pos:] + features_neg[num_neg:]"
   ]
  },
  {
   "cell_type": "code",
   "execution_count": 11,
   "metadata": {},
   "outputs": [
    {
     "name": "stdout",
     "output_type": "stream",
     "text": [
      "\n",
      "Number of training datapoints :  1600\n",
      "\n",
      "Number of testing datapoints :  400\n"
     ]
    }
   ],
   "source": [
    "# print the number of datapoints used\n",
    "print('\\nNumber of training datapoints : ', len(features_train))\n",
    "print('\\nNumber of testing datapoints : ', len(features_test))"
   ]
  },
  {
   "cell_type": "code",
   "execution_count": 12,
   "metadata": {},
   "outputs": [],
   "source": [
    "# Train the naive bayes classifier\n",
    "classifier =NaiveBayesClassifier.train(features_train)"
   ]
  },
  {
   "cell_type": "code",
   "execution_count": 13,
   "metadata": {},
   "outputs": [
    {
     "name": "stdout",
     "output_type": "stream",
     "text": [
      "\n",
      "Top 15 most informative words:\n",
      "1. outstanding\n",
      "2. insulting\n",
      "3. vulnerable\n",
      "4. ludicrous\n",
      "5. uninvolving\n",
      "6. avoids\n",
      "7. astounding\n",
      "8. fascination\n",
      "9. symbol\n",
      "10. animators\n",
      "11. seagal\n",
      "12. anna\n",
      "13. darker\n",
      "14. affecting\n",
      "15. idiotic\n"
     ]
    }
   ],
   "source": [
    "# test input movie reviews\n",
    "N = 15\n",
    "print('\\nTop ' + str(N) + ' most informative words:' )\n",
    "for i, item in enumerate(classifier.most_informative_features()):\n",
    "    print(str(i+1)+ '. '+ item[0])\n",
    "    if i == N - 1:\n",
    "        break;"
   ]
  },
  {
   "cell_type": "code",
   "execution_count": 14,
   "metadata": {},
   "outputs": [],
   "source": [
    "input_reviews =[\n",
    "    'the costumes in this movie were greate',\n",
    "    'I think the story was terrible and characters were very weak',\n",
    "    'People say that the director of the movie is amazing',\n",
    "    'This is such an idiotic movie. I will not recomment it to anyone'\n",
    "]"
   ]
  },
  {
   "cell_type": "code",
   "execution_count": 15,
   "metadata": {},
   "outputs": [
    {
     "name": "stdout",
     "output_type": "stream",
     "text": [
      "\n",
      "Movie Reviews Prediction:\n",
      "Review :  the costumes in this movie were greate\n",
      "Predicted sentement :  Negative\n",
      "Probability :  0.51\n",
      "Review :  I think the story was terrible and characters were very weak\n",
      "Predicted sentement :  Negative\n",
      "Probability :  0.8\n",
      "Review :  People say that the director of the movie is amazing\n",
      "Predicted sentement :  Positive\n",
      "Probability :  0.6\n",
      "Review :  This is such an idiotic movie. I will not recomment it to anyone\n",
      "Predicted sentement :  Negative\n",
      "Probability :  0.9\n"
     ]
    }
   ],
   "source": [
    "print('\\nMovie Reviews Prediction:')\n",
    "for review in input_reviews:\n",
    "    print('Review : ', review)\n",
    "    \n",
    "    # Compute the probabilities\n",
    "    probabilities =classifier.prob_classify(extract_features(review.split()))\n",
    "    \n",
    "    # Pick the maximum value\n",
    "    predicted_sentement =probabilities.max()\n",
    "    \n",
    "    # print the output\n",
    "    print('Predicted sentement : ', predicted_sentement)\n",
    "    print('Probability : ', round(probabilities.prob(predicted_sentement), 2))"
   ]
  },
  {
   "cell_type": "code",
   "execution_count": null,
   "metadata": {},
   "outputs": [],
   "source": []
  }
 ],
 "metadata": {
  "kernelspec": {
   "display_name": "Python 3",
   "language": "python",
   "name": "python3"
  },
  "language_info": {
   "codemirror_mode": {
    "name": "ipython",
    "version": 3
   },
   "file_extension": ".py",
   "mimetype": "text/x-python",
   "name": "python",
   "nbconvert_exporter": "python",
   "pygments_lexer": "ipython3",
   "version": "3.7.0"
  }
 },
 "nbformat": 4,
 "nbformat_minor": 2
}
