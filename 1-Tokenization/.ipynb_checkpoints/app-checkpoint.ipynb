{
 "cells": [
  {
   "cell_type": "markdown",
   "metadata": {},
   "source": [
    "## Tokenizing Data\n",
    "#### -Break text down into smaller pieces for analysis.\n",
    "#### -Tokens like ( Words, Sentences, Characters, ... )\n",
    "#### -Using NLTK"
   ]
  },
  {
   "cell_type": "code",
   "execution_count": 9,
   "metadata": {},
   "outputs": [],
   "source": [
    "# Import\n",
    "from nltk.tokenize import word_tokenize, sent_tokenize, WordPunctTokenizer"
   ]
  },
  {
   "cell_type": "code",
   "execution_count": 10,
   "metadata": {},
   "outputs": [],
   "source": [
    "# define text input\n",
    "text_input =\"Do you know how tokenize words? it's actually quite intresting! Let's analyse a couple of sentences and figure it out.\""
   ]
  },
  {
   "cell_type": "code",
   "execution_count": 11,
   "metadata": {},
   "outputs": [
    {
     "name": "stdout",
     "output_type": "stream",
     "text": [
      "Sentence Tokenizer\n",
      "['Do you know how tokenize words?', \"it's actually quite intresting!\", \"Let's analyse a couple of sentences and figure it out.\"]\n"
     ]
    }
   ],
   "source": [
    "# sentence tokenizer\n",
    "sent_tokenizer =sent_tokenize(text_input)\n",
    "print(\"Sentence Tokenizer\")\n",
    "print(sent_tokenizer)"
   ]
  },
  {
   "cell_type": "code",
   "execution_count": 12,
   "metadata": {},
   "outputs": [
    {
     "name": "stdout",
     "output_type": "stream",
     "text": [
      "Word Tokenizer\n",
      "['Do', 'you', 'know', 'how', 'tokenize', 'words', '?', 'it', \"'s\", 'actually', 'quite', 'intresting', '!', 'Let', \"'s\", 'analyse', 'a', 'couple', 'of', 'sentences', 'and', 'figure', 'it', 'out', '.']\n"
     ]
    }
   ],
   "source": [
    "# Word tokenizer\n",
    "word_tokenizer =word_tokenize(text_input)\n",
    "print(\"Word Tokenizer\")\n",
    "print(word_tokenizer)"
   ]
  },
  {
   "cell_type": "code",
   "execution_count": 13,
   "metadata": {},
   "outputs": [
    {
     "name": "stdout",
     "output_type": "stream",
     "text": [
      "WordPunct Tokenizer\n",
      "['Do', 'you', 'know', 'how', 'tokenize', 'words', '?', 'it', \"'\", 's', 'actually', 'quite', 'intresting', '!', 'Let', \"'\", 's', 'analyse', 'a', 'couple', 'of', 'sentences', 'and', 'figure', 'it', 'out', '.']\n"
     ]
    }
   ],
   "source": [
    "# WordPunct tokenizer\n",
    "wordPunct_tokinzer =WordPunctTokenizer().tokenize(text_input)\n",
    "print(\"WordPunct Tokenizer\")\n",
    "print(wordPunct_tokinzer)"
   ]
  },
  {
   "cell_type": "code",
   "execution_count": null,
   "metadata": {},
   "outputs": [],
   "source": []
  }
 ],
 "metadata": {
  "kernelspec": {
   "display_name": "Python 3",
   "language": "python",
   "name": "python3"
  },
  "language_info": {
   "codemirror_mode": {
    "name": "ipython",
    "version": 3
   },
   "file_extension": ".py",
   "mimetype": "text/x-python",
   "name": "python",
   "nbconvert_exporter": "python",
   "pygments_lexer": "ipython3",
   "version": "3.7.0"
  }
 },
 "nbformat": 4,
 "nbformat_minor": 2
}
