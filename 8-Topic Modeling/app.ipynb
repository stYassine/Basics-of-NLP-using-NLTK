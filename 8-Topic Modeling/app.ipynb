{
 "cells": [
  {
   "cell_type": "markdown",
   "metadata": {},
   "source": [
    "# Topic Modeling Using Latent Dirichlet Allocation"
   ]
  },
  {
   "cell_type": "markdown",
   "metadata": {},
   "source": [
    "##### - Topic modeling is the process of identifying patterns in text data that correspond to a topic.\n",
    "##### - Used for analysis.\n",
    "##### - Like Unsupervised Learning No Need for Labeled Data!\n",
    "##### - Summarize the data !"
   ]
  },
  {
   "cell_type": "markdown",
   "metadata": {},
   "source": [
    "##### - Latent Dirichlet Allocation is a topic modeling technique.\n",
    "##### - A Given piece of text is a combination of multiple topics.\n",
    "##### - Example: Data Visualization, finance and so on.\n",
    "##### - A Topic is basically a distribution over a fixed vocabulary of words."
   ]
  },
  {
   "cell_type": "code",
   "execution_count": 2,
   "metadata": {},
   "outputs": [],
   "source": [
    "# Import libraries\n",
    "from nltk.tokenize import RegexpTokenizer\n",
    "from nltk.corpus import stopwords\n",
    "from nltk.stem.snowball import SnowballStemmer\n",
    "from gensim import models, corpora"
   ]
  },
  {
   "cell_type": "code",
   "execution_count": 3,
   "metadata": {},
   "outputs": [],
   "source": [
    "# Load input data\n",
    "def load_data(input_file):\n",
    "    data =[]\n",
    "    with open(input_file, 'r') as f:\n",
    "        for line in f.readlines():\n",
    "            data.append(line[:-1])\n",
    "            \n",
    "    return data"
   ]
  },
  {
   "cell_type": "code",
   "execution_count": 4,
   "metadata": {},
   "outputs": [],
   "source": [
    "def process(input_text):\n",
    "    # create Regex Regulizer\n",
    "    toknenizer =RegexpTokenizer(r'\\w+')\n",
    "    \n",
    "    # Create a snowball stemmer\n",
    "    stemmer =SnowballStemmer('english')\n",
    "    \n",
    "    # get the list of stopwords\n",
    "    stop_words =stopwords.words('english')\n",
    "    \n",
    "    # Tokenize input string\n",
    "    tokens =toknenizer.tokenize(input_text.lower())\n",
    "    \n",
    "    # remove stopwords\n",
    "    tokens =[x for  x in tokens if not x in stop_words]\n",
    "    \n",
    "    # Preform Stemming on tokenised words\n",
    "    tokens_stemmed =[stemmer.stem(x) for x in tokens ]\n",
    "    \n",
    "    return tokens_stemmed"
   ]
  },
  {
   "cell_type": "code",
   "execution_count": 5,
   "metadata": {},
   "outputs": [],
   "source": [
    "data =load_data('data.txt')"
   ]
  },
  {
   "cell_type": "code",
   "execution_count": 6,
   "metadata": {},
   "outputs": [],
   "source": [
    "tokens =[ process(x) for x in data ]"
   ]
  },
  {
   "cell_type": "code",
   "execution_count": 7,
   "metadata": {},
   "outputs": [],
   "source": [
    "dict_tokens =corpora.Dictionary(tokens)"
   ]
  },
  {
   "cell_type": "code",
   "execution_count": 8,
   "metadata": {},
   "outputs": [],
   "source": [
    "doc_term_mat =[ dict_tokens.doc2bow(token) for token in tokens ]"
   ]
  },
  {
   "cell_type": "code",
   "execution_count": 9,
   "metadata": {},
   "outputs": [],
   "source": [
    "num_topics =2"
   ]
  },
  {
   "cell_type": "code",
   "execution_count": 10,
   "metadata": {},
   "outputs": [],
   "source": [
    "ldmodels =models.ldamodel.LdaModel(doc_term_mat, num_topics=num_topics, id2word=dict_tokens, passes=25 )"
   ]
  },
  {
   "cell_type": "code",
   "execution_count": 11,
   "metadata": {},
   "outputs": [],
   "source": [
    "num_words =5"
   ]
  },
  {
   "cell_type": "code",
   "execution_count": 13,
   "metadata": {},
   "outputs": [
    {
     "name": "stdout",
     "output_type": "stream",
     "text": [
      "\n",
      "Top 5Contributing Words to each topic :\n",
      "\n",
      "Topic 0\n",
      "\"empir\" ==> 3.8*\n",
      "\"mathemat\" ==> 2.7*\n",
      "\"expand\" ==> 2.7*\n",
      "\"call\" ==> 2.7*\n",
      "\"formul\" ==> 1.6*\n",
      "\n",
      "Topic 1\n",
      "\"peopl\" ==> 2.0*\n",
      "\"histor\" ==> 2.0*\n",
      "\"cultur\" ==> 2.0*\n",
      "\"europ\" ==> 2.0*\n",
      "\"time\" ==> 2.0*\n"
     ]
    }
   ],
   "source": [
    "print('\\nTop '+str(num_words)+ 'Contributing Words to each topic :')\n",
    "for item in ldmodels.print_topics(num_topics=num_topics, num_words=num_words):\n",
    "    print('\\nTopic', item[0])\n",
    "    \n",
    "    list_of_strings =item[1].split(' + ')\n",
    "    for text in list_of_strings:\n",
    "        weight =text.split('*')[0]\n",
    "        word =text.split('*')[1]\n",
    "        print(word, '==>', str(round(float(weight) * 100, 2)) + \"*\")"
   ]
  },
  {
   "cell_type": "code",
   "execution_count": null,
   "metadata": {},
   "outputs": [],
   "source": []
  }
 ],
 "metadata": {
  "kernelspec": {
   "display_name": "Python 3",
   "language": "python",
   "name": "python3"
  },
  "language_info": {
   "codemirror_mode": {
    "name": "ipython",
    "version": 3
   },
   "file_extension": ".py",
   "mimetype": "text/x-python",
   "name": "python",
   "nbconvert_exporter": "python",
   "pygments_lexer": "ipython3",
   "version": "3.7.0"
  }
 },
 "nbformat": 4,
 "nbformat_minor": 2
}
