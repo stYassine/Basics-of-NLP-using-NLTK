{
 "cells": [
  {
   "cell_type": "markdown",
   "metadata": {},
   "source": [
    "#  Convert Words into their base form using: Lemmatization "
   ]
  },
  {
   "cell_type": "markdown",
   "metadata": {},
   "source": [
    "- Lemmatization is another way of reducing words to their base form\n",
    "- Why Lemmatization ? ( Stemming calves -> calv!! ) it's better\n",
    "- How it works ?\n",
    "- This base form of any word is known as the lemma.\n",
    "- calves > calf"
   ]
  },
  {
   "cell_type": "code",
   "execution_count": 22,
   "metadata": {},
   "outputs": [],
   "source": [
    "# import\n",
    "import nltk\n",
    "from nltk.stem import WordNetLemmatizer"
   ]
  },
  {
   "cell_type": "code",
   "execution_count": 23,
   "metadata": {},
   "outputs": [
    {
     "name": "stdout",
     "output_type": "stream",
     "text": [
      "[nltk_data] Downloading package wordnet to\n",
      "[nltk_data]     C:\\Users\\B21Yassine\\AppData\\Roaming\\nltk_data...\n",
      "[nltk_data]   Package wordnet is already up-to-date!\n"
     ]
    },
    {
     "data": {
      "text/plain": [
       "True"
      ]
     },
     "execution_count": 23,
     "metadata": {},
     "output_type": "execute_result"
    }
   ],
   "source": [
    "nltk.download('wordnet')"
   ]
  },
  {
   "cell_type": "code",
   "execution_count": 24,
   "metadata": {},
   "outputs": [],
   "source": [
    "input_words =['writing', 'calves', 'be', 'branded', 'horse', 'randomize', \n",
    "              'possibly', 'provision', 'hospital', 'kept', 'scratchy', 'code']"
   ]
  },
  {
   "cell_type": "code",
   "execution_count": 25,
   "metadata": {},
   "outputs": [],
   "source": [
    "# instantiate\n",
    "lemmatizer =WordNetLemmatizer()"
   ]
  },
  {
   "cell_type": "code",
   "execution_count": 26,
   "metadata": {},
   "outputs": [],
   "source": [
    "# create a list of lemmatizer names for display\n",
    "lemmatizer_names =['Noun Lemmatizer','Verb Lemmatizer']\n",
    "formatted_text ='{:>16}' * (len(lemmatizer_names) + 1)"
   ]
  },
  {
   "cell_type": "code",
   "execution_count": 29,
   "metadata": {},
   "outputs": [
    {
     "name": "stdout",
     "output_type": "stream",
     "text": [
      "\n",
      "       INPUT WORD Noun Lemmatizer Verb Lemmatizer \n",
      " ====================================================================\n",
      "         writing         writing           write\n",
      "          calves            calf           calve\n",
      "              be              be              be\n",
      "         branded         branded           brand\n",
      "           horse           horse           horse\n",
      "       randomize       randomize       randomize\n",
      "        possibly        possibly        possibly\n",
      "       provision       provision       provision\n",
      "        hospital        hospital        hospital\n",
      "            kept            kept            keep\n",
      "        scratchy        scratchy        scratchy\n",
      "            code            code            code\n"
     ]
    }
   ],
   "source": [
    "# Lemmatize each word & display the output\n",
    "\n",
    "print('\\n', formatted_text.format('INPUT WORD', *lemmatizer_names),\n",
    "        '\\n', '='*68)\n",
    "\n",
    "for word in input_words:\n",
    "    output =[word, lemmatizer.lemmatize(word, pos='n'), lemmatizer.lemmatize(word, pos='v') ]\n",
    "    print(formatted_text.format(*output))"
   ]
  },
  {
   "cell_type": "code",
   "execution_count": null,
   "metadata": {},
   "outputs": [],
   "source": []
  }
 ],
 "metadata": {
  "kernelspec": {
   "display_name": "Python 3",
   "language": "python",
   "name": "python3"
  },
  "language_info": {
   "codemirror_mode": {
    "name": "ipython",
    "version": 3
   },
   "file_extension": ".py",
   "mimetype": "text/x-python",
   "name": "python",
   "nbconvert_exporter": "python",
   "pygments_lexer": "ipython3",
   "version": "3.7.0"
  }
 },
 "nbformat": 4,
 "nbformat_minor": 2
}
