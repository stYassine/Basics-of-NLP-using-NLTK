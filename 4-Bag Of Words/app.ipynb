{
 "cells": [
  {
   "cell_type": "markdown",
   "metadata": {},
   "source": [
    "# Extracting the Frequency of terms using a bag of words Model"
   ]
  },
  {
   "cell_type": "markdown",
   "metadata": {},
   "source": [
    "#### - Machine learning Algorithms need numeric data to work with.\n",
    "#### - this model extracts a vocabulary from all words in the document and builds a model using document term matrix\n",
    "#### - A document is a Bag of Words\n",
    "#### - bag of words === Track of word counts and disregared the grammatical details and the word order."
   ]
  },
  {
   "cell_type": "markdown",
   "metadata": {},
   "source": [
    "### - Document term matrix is a table that gives us counts of various words occur in the document.\n",
    "#### - Text Document === weighted combination of various words.\n",
    "#### - The weight is the importance of the word. ( obtained by tf-idf or Deep learning ).\n",
    "#### - choose words that are more meaningful using thresholds.\n",
    "#### - Feature Vector --> Text Classification"
   ]
  },
  {
   "cell_type": "markdown",
   "metadata": {},
   "source": [
    "Example:\n",
    "- sentence 1: The children are playing in the hall\n",
    "- sentence 2: The hall has alot of space\n",
    "- sentence 3: Lots of children like playing in an open space\n",
    "\n",
    "### Distinct words: \n",
    "    The, children, are, playing, in, hall, has, a, lot, of, space, like, an, open.\n",
    "    \n",
    "### Feature Vector:\n",
    "    - sentence 1: [2, 1, 1, 1, 1, 1, 0, 0, 0, 0, 0, 0, 0, 0]\n",
    "    - sentence 2: [1, 0, 0, 0, 0, 1, 1, 1, 1, 1, 1, 0, 0, 0]\n",
    "    - sentence 3: [0, 1, 0, 1, 1, 0, 0, 0, 1, 1, 1, 1, 1, 1]"
   ]
  },
  {
   "cell_type": "code",
   "execution_count": 7,
   "metadata": {},
   "outputs": [],
   "source": [
    "# import libs\n",
    "import numpy as np\n",
    "from sklearn.feature_extraction.text import CountVectorizer\n",
    "from nltk.corpus import brown"
   ]
  },
  {
   "cell_type": "code",
   "execution_count": 8,
   "metadata": {},
   "outputs": [],
   "source": [
    "def chunker(input_data, N):\n",
    "    input_words =input_data.split(' ')\n",
    "    output =[]\n",
    "    \n",
    "    curr_chunk =[]\n",
    "    count =0\n",
    "    \n",
    "    for word in input_words:\n",
    "        curr_chunk.append(word)\n",
    "        count+=1\n",
    "        if count == N:\n",
    "            output.append(' '.join(curr_chunk))\n",
    "            count, curr_chunk =0, []\n",
    "            \n",
    "    output.append(' '.join(curr_chunk))\n",
    "    return output"
   ]
  },
  {
   "cell_type": "code",
   "execution_count": 9,
   "metadata": {},
   "outputs": [],
   "source": [
    "# read the data from brown corpus\n",
    "input_data =' '.join(brown.words()[:5400])\n",
    "\n",
    "# number of words in each chunk\n",
    "chunk_size =800"
   ]
  },
  {
   "cell_type": "code",
   "execution_count": 10,
   "metadata": {},
   "outputs": [],
   "source": [
    "text_chunks =chunker(input_data, chunk_size)"
   ]
  },
  {
   "cell_type": "code",
   "execution_count": 11,
   "metadata": {},
   "outputs": [],
   "source": [
    "# convert to dict items\n",
    "chunks =[]\n",
    "for count, chunk in enumerate(text_chunks):\n",
    "    d ={'index': count, 'text': chunk}\n",
    "    chunks.append(d)"
   ]
  },
  {
   "cell_type": "code",
   "execution_count": 12,
   "metadata": {},
   "outputs": [],
   "source": [
    "# Extract the document term matrix ( count each word )\n",
    "count_vectorizer =CountVectorizer(min_df=7, max_df=20)\n",
    "document_term_matrix =count_vectorizer.fit_transform([chunk['text'] for chunk in chunks ] )"
   ]
  },
  {
   "cell_type": "code",
   "execution_count": 14,
   "metadata": {},
   "outputs": [
    {
     "name": "stdout",
     "output_type": "stream",
     "text": [
      "\n",
      "Vocabulary:\n",
      " ['and' 'are' 'be' 'by' 'county' 'for' 'in' 'is' 'it' 'of' 'on' 'one'\n",
      " 'said' 'state' 'that' 'the' 'to' 'two' 'was' 'which' 'with']\n"
     ]
    }
   ],
   "source": [
    "# Exctract the vocabulary & display it\n",
    "vocabulary =np.array(count_vectorizer.get_feature_names())\n",
    "print('\\nVocabulary:\\n', vocabulary)"
   ]
  },
  {
   "cell_type": "code",
   "execution_count": 15,
   "metadata": {},
   "outputs": [],
   "source": [
    "# Generate names for chunks\n",
    "chunk_names =[]\n",
    "for i in range(len(text_chunks)):\n",
    "    chunk_names.append('Chunk-'+str(i+1))"
   ]
  },
  {
   "cell_type": "code",
   "execution_count": 16,
   "metadata": {},
   "outputs": [
    {
     "name": "stdout",
     "output_type": "stream",
     "text": [
      "\n",
      "Document term matrix:\n",
      "\n",
      "         Word     Chunk-1     Chunk-2     Chunk-3     Chunk-4     Chunk-5     Chunk-6     Chunk-7 \n",
      "\n",
      "         and          23           9           9          11           9          17          10\n",
      "         are           2           2           1           1           2           2           1\n",
      "          be           6           8           7           7           6           2           1\n",
      "          by           3           4           4           5          14           3           6\n",
      "      county           6           2           7           3           1           2           2\n",
      "         for           7          13           4          10           7           6           4\n",
      "          in          15          11          15          11          13          14          17\n",
      "          is           2           7           3           4           5           5           2\n",
      "          it           8           6           8           9           3           1           2\n",
      "          of          31          20          20          30          29          35          26\n",
      "          on           4           3           5          10           6           5           2\n",
      "         one           1           3           1           2           2           1           1\n",
      "        said          12           5           7           7           4           3           7\n",
      "       state           3           7           2           6           3           4           1\n",
      "        that          13           8           9           2           7           1           7\n",
      "         the          71          51          43          51          43          52          49\n",
      "          to          11          26          20          26          21          15          11\n",
      "         two           2           1           1           1           1           2           2\n",
      "         was           5           6           7           7           4           7           3\n",
      "       which           7           4           5           4           3           1           1\n",
      "        with           2           2           3           1           2           2           3\n"
     ]
    }
   ],
   "source": [
    "# Print the document term matrix\n",
    "print('\\nDocument term matrix:')\n",
    "formatted_text ='{:>12}' * (len(chunk_names) + 1)\n",
    "print('\\n', formatted_text.format('Word', *chunk_names), '\\n')\n",
    "for word, item in zip(vocabulary, document_term_matrix.T):\n",
    "    # item is a csr_matrix data structure\n",
    "    output =[word] + [str(freq) for freq in item.data]\n",
    "    print(formatted_text.format(*output))"
   ]
  }
 ],
 "metadata": {
  "kernelspec": {
   "display_name": "Python 3",
   "language": "python",
   "name": "python3"
  },
  "language_info": {
   "codemirror_mode": {
    "name": "ipython",
    "version": 3
   },
   "file_extension": ".py",
   "mimetype": "text/x-python",
   "name": "python",
   "nbconvert_exporter": "python",
   "pygments_lexer": "ipython3",
   "version": "3.7.0"
  }
 },
 "nbformat": 4,
 "nbformat_minor": 2
}
