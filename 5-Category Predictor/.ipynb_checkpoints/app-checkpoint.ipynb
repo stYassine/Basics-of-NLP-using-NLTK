{
 "cells": [
  {
   "cell_type": "markdown",
   "metadata": {},
   "source": [
    "# Building a category predictor"
   ]
  },
  {
   "cell_type": "markdown",
   "metadata": {},
   "source": [
    "#### - To determine the category of a given document.\n",
    "#### - Used in classification to categorize text documents.\n",
    "#### - Used in search Engines.\n",
    "#### - Corpus of data to train an algorithm."
   ]
  },
  {
   "cell_type": "markdown",
   "metadata": {},
   "source": [
    "# To Build Category Predictor:"
   ]
  },
  {
   "cell_type": "markdown",
   "metadata": {},
   "source": [
    "#### TermFrequency - InverseDocument Frequency (tf-idf): The importance of each word ."
   ]
  },
  {
   "cell_type": "markdown",
   "metadata": {},
   "source": [
    "#### Term Frequency: is basicaly a measure of how frequently each word appears in a given document."
   ]
  },
  {
   "cell_type": "markdown",
   "metadata": {},
   "source": [
    "#### we divide the count of each word by the total number of words in a given document to obtain TF."
   ]
  },
  {
   "cell_type": "markdown",
   "metadata": {},
   "source": [
    "#### InverseDocument Frequency (IDF): is a measure of how unique a word is to this document in the given set of documents."
   ]
  },
  {
   "cell_type": "markdown",
   "metadata": {},
   "source": [
    "#### this helps us identify words that are unique to each document as well."
   ]
  },
  {
   "cell_type": "markdown",
   "metadata": {},
   "source": [
    "#### we need to compute the ratio of the number of documents with the given word, \n",
    "#### and divide it by the total number of documents then taking the negative algorithm of this ratio"
   ]
  },
  {
   "cell_type": "markdown",
   "metadata": {},
   "source": [
    "#### we then combine term frequency and inverse document frequency to formulate a feature vector to categorize documents."
   ]
  },
  {
   "cell_type": "code",
   "execution_count": 14,
   "metadata": {},
   "outputs": [],
   "source": [
    "# Import Libs\n",
    "from sklearn.datasets import fetch_20newsgroups\n",
    "from sklearn.naive_bayes import MultinomialNB\n",
    "from sklearn.feature_extraction.text import TfidfVectorizer\n",
    "from sklearn.feature_extraction.text import CountVectorizer"
   ]
  },
  {
   "cell_type": "code",
   "execution_count": 15,
   "metadata": {},
   "outputs": [],
   "source": [
    "# Define Category Map\n",
    "categoryMap ={\n",
    "    'talk.politics.misc': 'Politics', 'rec.autos': 'Autos',\n",
    "    'rec.sport.hockey': 'Hokey', 'sci.electronics': 'Electronics',\n",
    "    'sci.med': 'Medicine'\n",
    "}"
   ]
  },
  {
   "cell_type": "code",
   "execution_count": 16,
   "metadata": {},
   "outputs": [],
   "source": [
    "# get the training dataset\n",
    "training_data =fetch_20newsgroups(subset='train', categories=categoryMap.keys(), shuffle=True, random_state=5 )"
   ]
  },
  {
   "cell_type": "code",
   "execution_count": 17,
   "metadata": {},
   "outputs": [
    {
     "name": "stdout",
     "output_type": "stream",
     "text": [
      "\n",
      "Dimentions of training data :  (2844, 40321)\n"
     ]
    }
   ],
   "source": [
    "# Build the count vectorizer & extract term count\n",
    "count_vectorizer =CountVectorizer()\n",
    "train_tc =count_vectorizer.fit_transform(training_data.data)\n",
    "print(\"\\nDimentions of training data : \", train_tc.shape)"
   ]
  },
  {
   "cell_type": "code",
   "execution_count": 18,
   "metadata": {},
   "outputs": [],
   "source": [
    "# create TF-IDF Transformer\n",
    "tfidf =TfidfTransformer()\n",
    "train_tfidf =tfidf.fit_transform(train_tc)"
   ]
  },
  {
   "cell_type": "code",
   "execution_count": 19,
   "metadata": {},
   "outputs": [],
   "source": [
    "# define test data\n",
    "test_data =[\n",
    "    'you need to be careful with cars when you are driving in a slippery road',\n",
    "    'A lots of devices can be operated wirelessly',\n",
    "    'Players need to be careful when they are close to goal posts',\n",
    "    'Political debates help us understand the perspectives of both sides'\n",
    "]"
   ]
  },
  {
   "cell_type": "code",
   "execution_count": 22,
   "metadata": {},
   "outputs": [],
   "source": [
    "# Train Multinomial Naive bayes classifier\n",
    "classifier =MultinomialNB()\n",
    "classifier.fit(train_tfidf, training_data.target)"
   ]
  },
  {
   "cell_type": "code",
   "execution_count": 24,
   "metadata": {},
   "outputs": [],
   "source": [
    "# transform input data using count vectorizer\n",
    "input_tc =count_vectorizer.transform(test_data)"
   ]
  },
  {
   "cell_type": "code",
   "execution_count": 25,
   "metadata": {},
   "outputs": [],
   "source": [
    "# transform vectorized data using TF-IDF\n",
    "input_tfidf =tfidf.fit_transform(input_tc)"
   ]
  },
  {
   "cell_type": "code",
   "execution_count": 27,
   "metadata": {},
   "outputs": [],
   "source": [
    "# predict the output categories\n",
    "predictions =classifier.predict(input_tfidf)"
   ]
  },
  {
   "cell_type": "code",
   "execution_count": 30,
   "metadata": {},
   "outputs": [
    {
     "name": "stdout",
     "output_type": "stream",
     "text": [
      "\n",
      "Input: you need to be careful with cars when you are driving in a slippery road \n",
      "Predictions Category: Autos\n",
      "\n",
      "Input: A lots of devices can be operated wirelessly \n",
      "Predictions Category: Electronics\n",
      "\n",
      "Input: Players need to be careful when they are close to goal posts \n",
      "Predictions Category: Hokey\n",
      "\n",
      "Input: Political debates help us understand the perspectives of both sides \n",
      "Predictions Category: Medicine\n"
     ]
    }
   ],
   "source": [
    "# print the outputs\n",
    "for sent, category in zip(test_data, predictions):\n",
    "    print('\\nInput:', sent, '\\nPredictions Category:', categoryMap[training_data.target_names[category]] )"
   ]
  },
  {
   "cell_type": "code",
   "execution_count": null,
   "metadata": {},
   "outputs": [],
   "source": []
  }
 ],
 "metadata": {
  "kernelspec": {
   "display_name": "Python 3",
   "language": "python",
   "name": "python3"
  },
  "language_info": {
   "codemirror_mode": {
    "name": "ipython",
    "version": 3
   },
   "file_extension": ".py",
   "mimetype": "text/x-python",
   "name": "python",
   "nbconvert_exporter": "python",
   "pygments_lexer": "ipython3",
   "version": "3.7.0"
  }
 },
 "nbformat": 4,
 "nbformat_minor": 2
}
